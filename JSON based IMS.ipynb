{
  "nbformat": 4,
  "nbformat_minor": 0,
  "metadata": {
    "kernelspec": {
      "display_name": "Python 3",
      "language": "python",
      "name": "python3"
    },
    "language_info": {
      "codemirror_mode": {
        "name": "ipython",
        "version": 3
      },
      "file_extension": ".py",
      "mimetype": "text/x-python",
      "name": "python",
      "nbconvert_exporter": "python",
      "pygments_lexer": "ipython3",
      "version": "3.8.5"
    },
    "colab": {
      "name": "Inventory management System.ipynb",
      "provenance": [],
      "collapsed_sections": []
    }
  },
  "cells": [
    {
      "cell_type": "markdown",
      "metadata": {
        "id": "Cn13u4MlQWVw"
      },
      "source": [
        "# Inventory Mangement System"
      ]
    },
    {
      "cell_type": "markdown",
      "metadata": {
        "id": "0dGt7ogcQWV8"
      },
      "source": [
        "Importing libraries"
      ]
    },
    {
      "cell_type": "code",
      "metadata": {
        "id": "WiTcQ0pYQWV_"
      },
      "source": [
        "import json\n",
        "from datetime import date\n",
        "import pandas as pd\n",
        "from google.colab import output"
      ],
      "execution_count": null,
      "outputs": []
    },
    {
      "cell_type": "code",
      "metadata": {
        "id": "SWFK46HeQWWG"
      },
      "source": [
        "def updateinv(choice):\n",
        "    file = open('records.json', 'r')\n",
        "    records = file.read()\n",
        "    file.close()\n",
        "\n",
        "    products = json.loads(records)\n",
        "    product_id = int(input(\"Enter the product ID: \"))\n",
        "    \n",
        "    available = 1\n",
        "    for i in products:                     \n",
        "        if i == product_id:                 \n",
        "            available = 1\n",
        "            break\n",
        "        else:\n",
        "            available = 0\n",
        "                \n",
        "    if available == 1:\n",
        "       \n",
        "            print(\"\\nProduct is already in inventory:\\n\")\n",
        "            print(\"Product Name : \",products[product_id]['Product'],\"\\nUpdate Product Detials\\n\\n\")\n",
        "\n",
        "            updateItem(product_id)\n",
        "        \n",
        "    else:\n",
        "        \n",
        "            addItem(product_id)                      \n",
        "\n",
        "def updateItem(product_id):\n",
        "\n",
        "    Product = input(\"Update the product name: \")\n",
        "    Category = input(\"Update the product Category: \")\n",
        "    Price = int(input(\"Update the unit Price: \"))\n",
        "    Discount = int(input(\"Update the Discount available: \"))\n",
        "    Quantity = int(input(\"Update the Quantity: \"))\n",
        "       \n",
        "    products[product_id]['Product'] = Product\n",
        "    products[product_id]['Category'] = Category\n",
        "    products[product_id]['Price'] = Price\n",
        "    products[product_id]['Discount'] = Discount\n",
        "    products[product_id]['Quantity'] = Quantity\n",
        "    products[product_id]['TotalPrice'] = Quantity * Price\n",
        "        \n",
        "    print(\"Product deatils are successfully updated\")\n",
        "  \n",
        "def addItem(product_id):\n",
        "    \n",
        "    name = input(\"Enter the Product Name: \")\n",
        "    Category = input(\"Enter the Product Category: \")    \n",
        "    Quantity = int(input(\"Enter the Quantity: \"))\n",
        "    Price = int(input(\"Enter the Price: \"))\n",
        "    Discount = int(input(\"Enter the Discount amount(if any): \"))\n",
        " \n",
        "    \n",
        "    nproducts={}\n",
        "    nproducts[product_id]={}\n",
        "    \n",
        "    nproducts[product_id]['Product'] = name\n",
        "    nproducts[product_id]['Category'] = Category\n",
        "    nproducts[product_id]['Price'] = Price\n",
        "    nproducts[product_id]['Discount'] = Discount\n",
        "    nproducts[product_id]['Quantity'] = Quantity\n",
        "    nproducts[product_id]['TotalPrice'] = Quantity * Price\n",
        "        \n",
        "    print(\"Product is successfully added\")\n",
        "        \n",
        "    try: \n",
        "        with open(\"records.json\",\"r+\") as record:\n",
        "            data=json.load(record)\n",
        "            data.update(nproducts)\n",
        "            record.seek(0)\n",
        "            json.dump(data,record)\n",
        "    except:\n",
        "        with open(\"records.json\",\"w\") as record:\n",
        "            json.dump(nproducts,record)\n",
        "    "
      ],
      "execution_count": null,
      "outputs": []
    },
    {
      "cell_type": "code",
      "metadata": {
        "id": "SO-xyXh6QWWN"
      },
      "source": [
        "def showinv():\n",
        "   \n",
        "    record=open(\"records.json\",\"r\")\n",
        "    data=json.load(record)\n",
        "    pd.set_option('display.max_columns', None)\n",
        "    pd.set_option('display.max_rows', None)\n",
        "    df=pd.DataFrame(data)\n",
        "    df=df.transpose()\n",
        "    print(df)\n",
        "    record.close()"
      ],
      "execution_count": null,
      "outputs": []
    },
    {
      "cell_type": "code",
      "metadata": {
        "id": "Sv8tNjiAQWWP"
      },
      "source": [
        "def bill_record():\n",
        "   \n",
        "    record=open(\"billing.json\",\"r\")\n",
        "    data=json.load(record)\n",
        "    \n",
        "    df=pd.DataFrame(data)\n",
        "    df=df.transpose()\n",
        "    print(df)\n",
        "    record.close()"
      ],
      "execution_count": null,
      "outputs": []
    },
    {
      "cell_type": "code",
      "metadata": {
        "id": "mxKjt3XuQWWR"
      },
      "source": [
        "def buyItem():\n",
        "    print(\"\"\"--------------------------------------  Welcome to  your Cart -----------------------------------------\\n\\n\"\"\")    \n",
        "    print(\"Enter your details:\")\n",
        "    new_cust={}\n",
        "    bill=0.00\n",
        "    id=int(input(\"Enter your ID:\"))\n",
        "    new_cust[id]={}\n",
        "    new_cust[id][\"Name\"]=input(\"Enter your name:\")\n",
        "    new_cust[id][\"Bill_Date\"]=str(date.today())\n",
        "    print(\"\"\"\\n--------------------------------------- Enjoy your shopping --------------------------------------------\\n\\n\"\"\")\n",
        "    \n",
        "    while(1):\n",
        "       record=open(\"records.json\",\"r+\")\n",
        "       data=json.load(record)\n",
        "       df=pd.DataFrame(data)\n",
        "       df=df.transpose()\n",
        "       print(df)\n",
        "       print(\"\\n\\n\")\n",
        "       record.close()\n",
        "       \n",
        "       product=(input(\"Enter product Id :\"))\n",
        "       if product not in data.keys():\n",
        "           print(\"Invalid Product Id\")\n",
        "           continue\n",
        "       \n",
        "       quant=int(input(\"Enter Quantity needed:\"))\n",
        "       bill=bill+(data[product][\"Price\"]*quant)\n",
        "       \n",
        "       record2=open(\"records.json\",\"r+\") \n",
        "       data=json.load(record2)\n",
        "       data[product][\"Quantity\"]=data[product][\"Quantity\"]-quant\n",
        "       \n",
        "       record2.seek(0)\n",
        "       json.dump(data,record2)\n",
        "       record2.truncate()\n",
        "       record2.close()\n",
        "       \n",
        "       \n",
        "       c=input(\"Do you want to continue purchase(Y/N):\")\n",
        "       if c==\"N\" or c == \"n\":\n",
        "           print(\"\\n\\n\\n\")\n",
        "           print(\"Your bill Amount is \"+str(bill))\n",
        "           break\n",
        "       \n",
        "       \n",
        "       \n",
        "    new_cust[id][\"bill\"]=bill\n",
        "    \n",
        "    try: \n",
        "        with open(\"billing.json\",\"r+\") as bills:\n",
        "            data=json.load(bills)\n",
        "            data.update(new_cust)\n",
        "            bills.seek(0)\n",
        "            json.dump(data,bills)\n",
        "    \n",
        "    except:\n",
        "        with open(\"billing.json\",\"w\") as bills:\n",
        "            json.dump(new_cust,bills)\n",
        "    \n",
        "    \n",
        "\n",
        "    "
      ],
      "execution_count": null,
      "outputs": []
    },
    {
      "cell_type": "code",
      "metadata": {
        "id": "TMiD0blC6cQX"
      },
      "source": [
        "def shopmenu():\n",
        "        print(\"\\n\\n__________________________________________________________________________________________________________________ \")\n",
        "        print(\"------------------------------------------------------------------------------------------------------------------ \")\n",
        "        print(\"***********************************************SHOPKEEPER MENU**************************************************** \")\n",
        "        print(\"------------------------------------------------------------------------------------------------------------------\\n\")\n",
        "\n",
        "        print(\"1  Show inventory \\n\")\n",
        "        print(\"2  Update inventory\\n\")\n",
        "        print(\"3  Show Billing Records\\n\")\n",
        "        print(\"4  Exit \\n\")\n",
        "        print(\" Your Choice : \\n\")\n",
        "        schoice = input()\n",
        "        if schoice=='1':\n",
        "           output.clear()\n",
        "           print(\"*******************************○ INVENTORY ○*****************************\\n\")\n",
        "           showinv()\n",
        "           shopmenu()\n",
        "        elif schoice == '2':\n",
        "           output.clear()\n",
        "           updateinv(schoice)\n",
        "           shopmenu()\n",
        "        elif schoice == '3':\n",
        "           output.clear()\n",
        "           bill_record()\n",
        "           shopmenu()\n",
        "        elif schoice=='4':\n",
        "           exit()\n",
        "       \n",
        "\n",
        "def custmenu():\n",
        "        print(\"\\n\\n__________________________________________________________________________________________________________________ \")\n",
        "        print(\"------------------------------------------------------------------------------------------------------------------ \")\n",
        "        print(\"***********************************************CUSTOMER MENU**************************************************** \")\n",
        "        print(\"------------------------------------------------------------------------------------------------------------------\\n\")\n",
        "        print(\"1  Show inventory \\n\")\n",
        "        print(\"2  Buy products\\n\")\n",
        "        print(\"3  Exit \\n\")\n",
        "        print(\" Your Choice : \\n\")\n",
        "        cchoice = input()\n",
        "        if cchoice=='1':\n",
        "           print(\"*******************************○ INVENTORY ○*****************************\\n\")\n",
        "           showinv()\n",
        "           custmenu()\n",
        "        elif cchoice == '2':\n",
        "          buyItem()\n",
        "          custmenu()\n",
        "        elif cchoice=='3':\n",
        "          print(\"\\n\\t\\t\\t\\tThank You for visiting Snehal Supermart, Please do come again!!!!\")\n",
        "          exit()\n",
        "       \n",
        "\n"
      ],
      "execution_count": null,
      "outputs": []
    },
    {
      "cell_type": "code",
      "metadata": {
        "id": "wCKP8HN7QWWZ"
      },
      "source": [
        "def interface():\n",
        "  print(\"\\n\\n__________________________________________________________________________________________________________________ \\n\")\n",
        "\n",
        "  print(\"************************************************SNEHAL SUPERMART************************************************** \")\n",
        "  print(\"__________________________________________________________________________________________________________________ \")\n",
        "\n",
        "\n",
        "  while 1:\n",
        "          \n",
        "    print(\"\\n\\n__________________________________________________________________________________________________________________ \")\n",
        "    print(\"------------------------------------------------------------------------------------------------------------------ \")\n",
        "    print(\"******************************************************MENU******************************************************** \")\n",
        "    print(\"------------------------------------------------------------------------------------------------------------------\\n\")\n",
        "\n",
        "    print(\" Choose your option : \\n\")\n",
        "   \n",
        "    print(\"1  ShopKeeper \\n\")\n",
        "    print(\"2  Customer \\n\")\n",
        "    print(\"3  Exit\\n\")\n",
        "    \n",
        "    print(\"Enter Your Choice : \\n\")\n",
        "    choice = input()\n",
        "\n",
        "    if choice == '1':\n",
        "        output.clear()\n",
        "        shopmenu() \n",
        "       \n",
        "    elif choice == '2':\n",
        "        output.clear()\n",
        "        custmenu()\n",
        "\n",
        "    elif choice == '3':\n",
        "        break;\n",
        "            \n",
        "    \n",
        "    "
      ],
      "execution_count": null,
      "outputs": []
    },
    {
      "cell_type": "code",
      "metadata": {
        "id": "_6bEXWudQWWb"
      },
      "source": [
        "interface()   "
      ],
      "execution_count": null,
      "outputs": []
    }
  ]
}
